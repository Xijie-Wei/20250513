{
 "cells": [
  {
   "cell_type": "markdown",
   "metadata": {},
   "source": [
    "# Creating Dataset\n",
    "\n",
    "This notebook is about creating a network train dataset with input <code>[eta,deta,dphi,theta,qop,pt,phi,z0,dz0,do,dhadpt,q,n]</code> and lebel efficiency<br>\n",
    "The code is about creating a tensor contains tensor contain input e.g. <code>[input1,input2,...]</code> and tensor with lebel <code>[eff1,eff2,....]</code><br>\n",
    "Then choose some of the data in the tensor to be the test dataset and the rest train dataset"
   ]
  },
  {
   "cell_type": "markdown",
   "metadata": {},
   "source": [
    "## Import lib needed"
   ]
  },
  {
   "cell_type": "code",
   "execution_count": 18,
   "metadata": {},
   "outputs": [],
   "source": [
    "import numpy as np\n",
    "import torch\n",
    "import os\n",
    "import matplotlib.pyplot as plt"
   ]
  },
  {
   "cell_type": "code",
   "execution_count": 19,
   "metadata": {},
   "outputs": [],
   "source": [
    "# load data\n",
    "# ref main.ipynb\n",
    "\n",
    "data = np.load(\"testevals/data_100k.npz\")\n",
    "\n",
    "# Convert the data from dumpy arrays to pytorch tensors\n",
    "data = {k: torch.from_numpy(v) for k, v in data.items()}"
   ]
  },
  {
   "cell_type": "code",
   "execution_count": 20,
   "metadata": {},
   "outputs": [
    {
     "name": "stdout",
     "output_type": "stream",
     "text": [
      "tensor([1.0000, 0.8462, 1.0000,  ..., 1.0000, 1.0000, 1.0000])\n",
      "tensor([0.8889, 1.0000, 0.7333,  ..., 0.6667, 0.4000, 0.3333])\n",
      "tensor([1., 1., 1.,  ..., 1., 1., 1.])\n",
      "tensor([0.5333, 0.8667, 0.5263,  ..., 0.5000, 0.1429, 0.1111])\n",
      "tensor([1., 1., 1.,  ..., 1., 1., 1.])\n",
      "tensor([0.8889, 1.0000, 0.9091,  ..., 0.5714, 0.5000, 1.0000])\n",
      "tensor([1., 1., 1.,  ..., 1., 1., 1.])\n",
      "tensor([1., 1., 1.,  ..., 1., 1., 1.])\n"
     ]
    }
   ],
   "source": [
    "# ref plot.py\n",
    "from metrics import calc_match_scores\n",
    "\n",
    "def calc_scores(reco_method,match_thresh = 0.75):\n",
    "    match_metric = \"tmp\"\n",
    "\n",
    "    pred_pix_valid = data[f\"{reco_method}_pix_valid\"]\n",
    "    pred_sct_valid = data[f\"{reco_method}_sct_valid\"]\n",
    "    pred_valid = data[f\"{reco_method}_valid\"]\n",
    "\n",
    "    true_pix_valid = data[\"sudo_pix_valid\"]\n",
    "    true_sct_valid = data[\"sudo_sct_valid\"]\n",
    "    true_valid = data[\"sudo_valid\"]\n",
    "\n",
    "    match_score = calc_match_scores(pred_pix_valid, pred_sct_valid, pred_valid, true_pix_valid, true_sct_valid, true_valid, match_metric)\n",
    "    matches = match_score  >= match_thresh\n",
    "\n",
    "    true_has_match = matches.any(1) & true_valid\n",
    "    pred_has_match = matches.any(2) & pred_valid\n",
    "        \n",
    "    true_num = true_valid.sum(-1)\n",
    "    pred_num = pred_valid.sum(-1)\n",
    "        \n",
    "    true_num_matched = true_has_match.sum(-1)\n",
    "    pred_num_matched = pred_has_match.sum(-1)\n",
    "\n",
    "    roi_eff = true_num_matched / true_num # matched num / true num\n",
    "    roi_pur = pred_num_matched / pred_num # matched num / predicted num\n",
    "    print(roi_eff)\n",
    "    print(roi_pur)\n",
    "    return pred_has_match , roi_eff, roi_pur\n",
    "\n",
    "pred_pred_has_match, pred_roi_eff, pred_roi_pur = calc_scores(\"pred\")\n",
    "sisp_pred_has_match, sisp_roi_eff, sisp_roi_pur = calc_scores(\"sisp\")\n",
    "reco_pred_has_match, reco_roi_eff, reco_roi_pur = calc_scores(\"reco\")\n",
    "sudo_pred_has_match, sudo_roi_eff, sudo_roi_pur = calc_scores(\"sudo\")\n",
    "\n",
    "pred_has_match = {\"pred\":pred_pred_has_match,\"sisp\":sisp_pred_has_match,\"reco\":reco_pred_has_match,\"sudo\":sudo_pred_has_match}\n",
    "roi_pur = {\"pred\":pred_roi_pur,\"sisp\":sisp_roi_pur,\"reco\":reco_roi_pur,\"sudo\":sudo_roi_pur}\n",
    "roi_eff = {\"pred\":pred_roi_eff,\"sisp\":sisp_roi_eff,\"reco\":reco_roi_eff,\"sudo\":sudo_roi_eff}"
   ]
  },
  {
   "cell_type": "code",
   "execution_count": 21,
   "metadata": {},
   "outputs": [],
   "source": [
    "def calculate_quanity(qtys = \"deta\"):\n",
    "    matched_reco = torch.tensor([])\n",
    "    unmatched_reco = torch.tensor([])\n",
    "\n",
    "    for idx in range(pred_has_match[\"pred\"].shape[0]):\n",
    "        #print(pred_has_match[\"pred\"][idx] )\n",
    "        #print(data[\"pred_valid\"][idx])\n",
    "        matched_reco = torch.cat((matched_reco,data[f\"sudo_{qtys}\"][idx][pred_has_match[\"pred\"][idx] & data[\"pred_valid\"][idx]]),0)\n",
    "        unmatched_reco = torch.cat((unmatched_reco,data[f\"sudo_{qtys}\"][idx][~pred_has_match[\"pred\"][idx] & data[\"pred_valid\"][idx]]),0)\n",
    "    \n",
    "    return matched_reco, unmatched_reco"
   ]
  },
  {
   "cell_type": "code",
   "execution_count": 22,
   "metadata": {},
   "outputs": [
    {
     "name": "stdout",
     "output_type": "stream",
     "text": [
      "tensor([ 0.0068, -0.0181, -0.0008,  ...,  0.0457,  0.0000,  0.0426])\n",
      "torch.Size([602222])\n",
      "tensor([0.0000, 0.0270, 0.0000,  ..., 0.0000, 0.0000, 0.0000])\n",
      "torch.Size([102527])\n"
     ]
    }
   ],
   "source": [
    "# Test the funciton\n",
    "matched_data, unmatched_data = calculate_quanity()\n",
    "print(matched_data)\n",
    "print(matched_data.shape)\n",
    "print(unmatched_data)\n",
    "print(unmatched_data.shape)"
   ]
  },
  {
   "cell_type": "code",
   "execution_count": 23,
   "metadata": {},
   "outputs": [],
   "source": [
    "# Calculate number of hits of reconstructed tracks\n",
    "def calculate_hits():\n",
    "    hit_matched = torch.tensor([])\n",
    "    hit_unmatched = torch.tensor([])\n",
    "    for idx in range(pred_has_match[\"pred\"].shape[0]):\n",
    "        for idx2 in range(data[\"pred_valid\"][idx].shape[0]):\n",
    "            if data[\"pred_valid\"][idx][idx2]:\n",
    "                #print(pred_has_match[\"pred\"][idx][idx2])\n",
    "                if pred_has_match[\"pred\"][idx][idx2]:\n",
    "                    #print(data[\"sudo_pix_valid\"][idx][idx2])\n",
    "                    hit = torch.tensor([data[\"pred_pix_valid\"][idx][idx2].count_nonzero()+data[\"pred_sct_valid\"][idx][idx2].count_nonzero()])\n",
    "                    hit_matched = torch.cat((hit_matched,hit),dim=0)\n",
    "                else:\n",
    "                    hit = torch.tensor([data[\"pred_pix_valid\"][idx][idx2].count_nonzero()+data[\"pred_sct_valid\"][idx][idx2].count_nonzero()])\n",
    "                    hit_unmatched = torch.cat((hit_unmatched,hit),dim=0)\n",
    "                    #print(hit)\n",
    "    #print(hit_matched)\n",
    "    #print(hit_matched.shape)\n",
    "    #print(hit_unmatched)\n",
    "    #print(hit_unmatched.shape)\n",
    "    return hit_matched, hit_unmatched"
   ]
  },
  {
   "cell_type": "code",
   "execution_count": 24,
   "metadata": {},
   "outputs": [
    {
     "data": {
      "text/plain": [
       "(tensor([12., 11., 12.,  ...,  4.,  4., 15.]),\n",
       " tensor([13.,  9.,  8.,  ...,  4., 17., 14.]))"
      ]
     },
     "execution_count": 24,
     "metadata": {},
     "output_type": "execute_result"
    }
   ],
   "source": [
    "calculate_hits()"
   ]
  },
  {
   "cell_type": "markdown",
   "metadata": {},
   "source": [
    "Seems we have 60438 matched track and 9874 unmatched track<br>\n",
    "I choose first 3k matched track and first 500 unmatched data as my test dataset"
   ]
  },
  {
   "cell_type": "code",
   "execution_count": 25,
   "metadata": {},
   "outputs": [],
   "source": [
    "num_test_good = 30000 # let first 3k of the good reco track be test set\n",
    "num_test_bad = 5000 # let first 500 of the bad reco track be test set"
   ]
  },
  {
   "cell_type": "code",
   "execution_count": 26,
   "metadata": {},
   "outputs": [],
   "source": [
    "quantity = [\"pt\",\"eta\",\"deta\",\"phi\",\"dphi\",\"theta\",\"z0\",\"dz0\",\"d0\",\"q\",\"qop\",\"bhadpt\"]\n",
    "\n",
    "data_test_label = torch.cat((torch.tensor([1,0]).repeat(num_test_good,1),torch.tensor([0,1]).repeat(num_test_bad,1)),dim = 0)\n",
    "data_train_label_good_reco = torch.tensor([1,0]).repeat(matched_data.shape[0]-num_test_good,1)\n",
    "data_train_label_bad_reco = torch.tensor([0,1]).repeat(unmatched_data.shape[0]-num_test_bad,1)\n",
    "data_train_label = torch.cat([data_train_label_good_reco,data_train_label_bad_reco],dim = 0)\n",
    "#data_test_input = torch.cat((hit_matched[0:3000],hit_unmatched[0:300]))\n",
    "\n"
   ]
  },
  {
   "cell_type": "code",
   "execution_count": 27,
   "metadata": {},
   "outputs": [],
   "source": [
    "hit_matched, hit_unmatched = calculate_hits()\n",
    "pt_matched , pt_unmatched = calculate_quanity(\"pt\")\n",
    "eta_matched , eta_unmatched = calculate_quanity(\"eta\")\n",
    "#deta_matched , deta_unmatched = calculate_quanity(\"deta\")\n",
    "phi_matched , phi_unmatched = calculate_quanity(\"phi\")\n",
    "#dphi_matched , dphi_unmatched = calculate_quanity(\"dphi\")\n",
    "theta_matched , theta_unmatched = calculate_quanity(\"theta\")\n",
    "#z0_matched , z0_unmatched = calculate_quanity(\"z0\")\n",
    "#dz0_matched , dz0_unmatched = calculate_quanity(\"dz0\")\n",
    "#d0_matched , d0_unmatched = calculate_quanity(\"d0\")\n",
    "#q_matched , q_unmatched = calculate_quanity(\"q\")\n",
    "#qop_matched , qop_unmatched = calculate_quanity(\"qop\")\n",
    "#bhadpt_matched , bhadpt_unmatched = calculate_quanity(\"bhadpt\")"
   ]
  },
  {
   "cell_type": "code",
   "execution_count": 28,
   "metadata": {},
   "outputs": [
    {
     "name": "stdout",
     "output_type": "stream",
     "text": [
      "tensor(-1.5369)\n",
      "tensor(10.4631)\n",
      "tensor(0.9682)\n"
     ]
    }
   ],
   "source": [
    "pt_max = np.log10(torch.max(pt_matched+1e-6))\n",
    "pt_min = np.log10(torch.min(pt_matched+1e-6))\n",
    "print(pt_max+pt_min)\n",
    "print(pt_max-pt_min)\n",
    "\n",
    "\n",
    "print(torch.max(pt_matched/3.0e4))"
   ]
  },
  {
   "cell_type": "code",
   "execution_count": 29,
   "metadata": {},
   "outputs": [
    {
     "name": "stdout",
     "output_type": "stream",
     "text": [
      "torch.Size([566207, 5])\n",
      "torch.Size([102527, 5])\n"
     ]
    }
   ],
   "source": [
    "data_input_good = torch.tensor([])\n",
    "data_input_bad = torch.tensor([])\n",
    "for i in range(matched_data.shape[0]):\n",
    "    if np.abs(eta_matched[i]) < 1.5:\n",
    "        data_input_good = torch.cat((data_input_good,torch.tensor([[hit_matched[i]/18,\n",
    "                                 pt_matched[i]/3.0e4,\n",
    "                                 0.5 + eta_matched[i]/5,\n",
    "                                 #0.5 + deta_matched[i]/0.1,\n",
    "                                 0.5 + phi_matched[i]/(2*np.pi),\n",
    "                                 #0.5 + dphi_matched[i]/0.1,\n",
    "                                 theta_matched[i]/np.pi,\n",
    "                                 #z0_matched[i],\n",
    "                                 #dz0_matched[i],\n",
    "                                 #d0_matched[i],\n",
    "                                 #q_matched[i],\n",
    "                                 #0.5 + qop_matched[i]/1,\n",
    "                                 #bhadpt_matched[i],\n",
    "                                 ]])),dim = 0)\n",
    "for i in range(unmatched_data.shape[0]):\n",
    "        data_input_bad = torch.cat((data_input_bad,torch.tensor([[hit_unmatched[i]/18,\n",
    "                                 pt_unmatched[i]/3.0e4,\n",
    "                                 0.5 + eta_unmatched[i]/5,\n",
    "                                 #0.5 + deta_unmatched[i]/0.1,\n",
    "                                 0.5 + phi_unmatched[i]/(2*np.pi),\n",
    "                                 #0.5 + dphi_unmatched[i]/0.1,\n",
    "                                 theta_unmatched[i]/np.pi,\n",
    "                                 #z0_unmatched[i],\n",
    "                                 #dz0_unmatched[i],\n",
    "                                 #d0_unmatched[i],\n",
    "                                 #q_unmatched[i],\n",
    "                                 #0.5 + qop_unmatched[i]/1,\n",
    "                                 #bhadpt_unmatched[i],\n",
    "                                 ]])),dim = 0)\n",
    "print(data_input_good.shape)\n",
    "print(data_input_bad.shape)"
   ]
  },
  {
   "cell_type": "code",
   "execution_count": 30,
   "metadata": {},
   "outputs": [
    {
     "name": "stdout",
     "output_type": "stream",
     "text": [
      "torch.Size([566207])\n"
     ]
    },
    {
     "data": {
      "image/png": "[encoded data removed]",
      "text/plain": [
       "<Figure size 640x480 with 1 Axes>"
      ]
     },
     "metadata": {},
     "output_type": "display_data"
    },
    {
     "name": "stdout",
     "output_type": "stream",
     "text": [
      "torch.Size([102527])\n"
     ]
    },
    {
     "data": {
      "image/png": "[encoded data removed]",
      "text/plain": [
       "<Figure size 640x480 with 1 Axes>"
      ]
     },
     "metadata": {},
     "output_type": "display_data"
    }
   ],
   "source": [
    "#print histogram on eta\n",
    "\n",
    "eta_his = data_input_good[:,4]\n",
    "print(eta_his.shape)\n",
    "\n",
    "plt.hist(eta_his)\n",
    "#plt.xlabel(\"eta_number\")\n",
    "plt.ylabel(\"count\")\n",
    "plt.show()\n",
    "\n",
    "eta_his = data_input_bad[:,4]\n",
    "print(eta_his.shape)\n",
    "\n",
    "plt.hist(eta_his)\n",
    "#plt.xlabel(\"eta_number\")\n",
    "plt.ylabel(\"count\")\n",
    "plt.show()"
   ]
  },
  {
   "cell_type": "code",
   "execution_count": 31,
   "metadata": {},
   "outputs": [
    {
     "name": "stdout",
     "output_type": "stream",
     "text": [
      "torch.Size([566207, 5])\n",
      "torch.Size([102527, 5])\n"
     ]
    }
   ],
   "source": [
    "# applying filter\n",
    "\n",
    "data_good_filted_index = torch.zeros(data_input_good.shape[0], dtype=torch.bool)\n",
    "data_bad_filted_index = torch.zeros(data_input_bad.shape[0], dtype=torch.bool)\n",
    "\n",
    "\n",
    "\n",
    "for i in range (data_input_good.shape[0]):\n",
    "    if True:#data_input_good[i,1]<0.1 and data_input_good[i,0]<0.8 and data_input_good[i,0]>0.6 and data_input_good[i,4]<0.6 and data_input_good[i,4]>0.4: #np.abs(eta_matched[i]) < 1.5:\n",
    "        data_good_filted_index[i] = True\n",
    "\n",
    "for i in range (data_input_bad.shape[0]):\n",
    "    if True:#data_input_bad[i,1]<0.1 and data_input_bad[i,0]<0.8 and data_input_bad[i,0]>0.6 and data_input_bad[i,4]<0.6 and data_input_bad[i,4]>0.4: #np.abs(eta_unmatched[i]) < 1.5:\n",
    "        data_bad_filted_index[i] = True\n",
    "\n",
    "data_good_filted = data_input_good[data_good_filted_index]\n",
    "data_bad_filted = data_input_bad[data_bad_filted_index]\n",
    "\n",
    "print(data_good_filted.shape)\n",
    "print(data_bad_filted.shape)"
   ]
  },
  {
   "cell_type": "code",
   "execution_count": 32,
   "metadata": {},
   "outputs": [
    {
     "name": "stdout",
     "output_type": "stream",
     "text": [
      "torch.Size([633734, 5])\n",
      "torch.Size([35000, 5])\n"
     ]
    }
   ],
   "source": [
    "#Create new dataset\n",
    "\n",
    "data_train_input = torch.cat((data_good_filted[num_test_good:data_good_filted.shape[0]][:],data_bad_filted[num_test_bad:data_bad_filted.shape[0]][:]),0)\n",
    "\n",
    "data_test_input = torch.cat((data_good_filted[0:num_test_good][:],data_bad_filted[0:num_test_bad][:]),0)\n",
    "\n",
    "data_train_label = torch.cat((torch.tensor([1,0]).repeat(data_good_filted.shape[0] - num_test_good ,1),torch.tensor([0,1]).repeat(data_bad_filted.shape[0] - num_test_bad,1)),dim = 0)\n",
    "data_test_label = torch.cat((torch.tensor([1,0]).repeat(num_test_good,1),torch.tensor([0,1]).repeat(num_test_bad,1)),dim = 0)\n",
    "print(data_train_input.shape)\n",
    "print(data_test_input.shape)"
   ]
  },
  {
   "cell_type": "code",
   "execution_count": 33,
   "metadata": {},
   "outputs": [
    {
     "name": "stdout",
     "output_type": "stream",
     "text": [
      "Train dataset input(good) size = torch.Size([633734, 5])\n",
      "Train dataset label(good) size = torch.Size([633734, 2])\n",
      "Test dataset input size = torch.Size([35000, 5])\n",
      "Test dataset label size = torch.Size([35000, 2])\n",
      "Dataset saved in '75_dataset_nhit_pt_eat_phi_theta'\n"
     ]
    }
   ],
   "source": [
    "print(f\"Train dataset input(good) size = {data_train_input.shape}\")\n",
    "print(f\"Train dataset label(good) size = {data_train_label.shape}\")\n",
    "print(f\"Test dataset input size = {data_test_input.shape}\")\n",
    "print(f\"Test dataset label size = {data_test_label.shape}\")\n",
    "\n",
    "folder = \"75_dataset_nhit_pt_eat_phi_theta\"\n",
    "try:\n",
    "    os.makedirs(f\"data_eta_test/{folder}\")\n",
    "except:\n",
    "    print(\"Path already created\")\n",
    "torch.save(data_train_input,f\"data_eta_test/{folder}/data_train_input.csv\")\n",
    "torch.save(data_train_label,f\"data_eta_test/{folder}/data_train_label.csv\")\n",
    "torch.save(data_test_input,f\"data_eta_test/{folder}/data_test_input.csv\")\n",
    "torch.save(data_test_label,f\"data_eta_test/{folder}/data_test_label.csv\")\n",
    "print(f\"Dataset saved in '{folder}'\")"
   ]
  },
  {
   "cell_type": "code",
   "execution_count": 34,
   "metadata": {},
   "outputs": [
    {
     "name": "stdout",
     "output_type": "stream",
     "text": [
      "torch.Size([566207])\n"
     ]
    },
    {
     "data": {
      "image/png": "[encoded data removed]",
      "text/plain": [
       "<Figure size 640x480 with 1 Axes>"
      ]
     },
     "metadata": {},
     "output_type": "display_data"
    },
    {
     "name": "stdout",
     "output_type": "stream",
     "text": [
      "torch.Size([102527])\n"
     ]
    },
    {
     "data": {
      "image/png": "[encoded data removed]",
      "text/plain": [
       "<Figure size 640x480 with 1 Axes>"
      ]
     },
     "metadata": {},
     "output_type": "display_data"
    }
   ],
   "source": [
    "#print histogram on eta\n",
    "\n",
    "eta_his = data_good_filted[:,0]\n",
    "print(eta_his.shape)\n",
    "\n",
    "plt.hist(eta_his)\n",
    "#plt.xlabel(\"eta_number\")\n",
    "plt.ylabel(\"count\")\n",
    "plt.show()\n",
    "\n",
    "eta_his = data_bad_filted[:,0]\n",
    "print(eta_his.shape)\n",
    "\n",
    "plt.hist(eta_his)\n",
    "#plt.xlabel(\"eta_number\")\n",
    "plt.ylabel(\"count\")\n",
    "plt.show()"
   ]
  }
 ],
 "metadata": {
  "kernelspec": {
   "display_name": "Python 3",
   "language": "python",
   "name": "python3"
  },
  "language_info": {
   "codemirror_mode": {
    "name": "ipython",
    "version": 3
   },
   "file_extension": ".py",
   "mimetype": "text/x-python",
   "name": "python",
   "nbconvert_exporter": "python",
   "pygments_lexer": "ipython3",
   "version": "3.11.9"
  }
 },
 "nbformat": 4,
 "nbformat_minor": 2
}
